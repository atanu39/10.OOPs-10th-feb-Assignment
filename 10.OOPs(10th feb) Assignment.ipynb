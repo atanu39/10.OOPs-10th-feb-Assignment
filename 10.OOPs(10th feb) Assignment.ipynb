{
 "cells": [
  {
   "cell_type": "markdown",
   "id": "e1a70aaf-c719-4ca5-b4eb-4195ad969587",
   "metadata": {},
   "source": [
    "# Q1. Which function is used to open a file? What are the different modes of opening a file? Explain each mode of file opening."
   ]
  },
  {
   "cell_type": "markdown",
   "id": "18439370-33c1-4193-8c95-412073e40717",
   "metadata": {},
   "source": [
    "#  Ans :"
   ]
  },
  {
   "cell_type": "markdown",
   "id": "f55da9fb-c475-4ec5-bf57-c0de32b66d7e",
   "metadata": {},
   "source": [
    "## In Python, the open() function is used to open a file. The open() function returns a file object that allows you to read, write or append to a file depending on the mode in which the file is opened.\n",
    "\n",
    "# The different modes of opening a file are:\n",
    "\n",
    "## * - \"r\" mode: This mode opens a file for reading only. The file pointer is placed at the beginning of the file. If the file does not exist, an error occurs.\n",
    "\n",
    "## * - \"w\" mode: This mode opens a file for writing only. If the file exists, it is truncated to zero length. If the file does not exist, it is created.\n",
    "\n",
    "## * - \"a\" mode: This mode opens a file for appending data to the end of the file. If the file does not exist, it is created.\n",
    "\n",
    "## * - \"x\" mode: This mode opens a file for exclusive creation. If the file already exists, an error occurs.\n",
    "\n",
    "## * - \"b\" mode: This mode is used to open a file in binary mode.\n",
    "\n",
    "## * - \"t\" mode: This mode is used to open a file in text mode.\n",
    "\n",
    "## * - \"+\" mode: This mode is used to open a file for updating (reading and writing).\n",
    "\n",
    "## When opening a file in binary mode, the \"b\" character must be added to the mode string, and when opening a file in text mode, the \"t\" character must be added to the mode string.\n",
    "\n",
    "## For example, to open a file named \"example.txt\" in write mode, you would use the following code: "
   ]
  },
  {
   "cell_type": "code",
   "execution_count": 1,
   "id": "a39260b9-255d-465d-8787-37021542e796",
   "metadata": {},
   "outputs": [],
   "source": [
    "file = open(\"example.txt\", \"w\")\n"
   ]
  },
  {
   "cell_type": "markdown",
   "id": "fb7c806a-487a-4b53-b6d8-1d54c04144de",
   "metadata": {},
   "source": [
    "# Q2. Why close() function is used? Why is it important to close a file?"
   ]
  },
  {
   "cell_type": "markdown",
   "id": "59325d11-9d45-4e9b-90e9-fd43682b3b57",
   "metadata": {},
   "source": [
    "# Ans:"
   ]
  },
  {
   "cell_type": "markdown",
   "id": "8856738d-2796-4666-8546-d1552d282986",
   "metadata": {},
   "source": [
    "## The close() function in Python is used to close an opened file. It is important to close a file after it has been opened and used because it frees up system resources that were being used by the file while it was open.\n",
    "\n",
    "## When a file is opened, the operating system allocates certain resources such as memory and processing power to handle the file. If the file is not closed properly, these resources may not be released until the program terminates or the operating system decides to release them. This can lead to resource leaks, which can cause performance issues or even crashes in some cases.\n",
    "\n",
    "## Furthermore, closing a file ensures that any changes made to the file are saved. For instance, when you write data to a file, it is stored in a buffer. The buffer is then flushed and the data is written to the file only when the file is closed. If the file is not closed, the data may not be written to the file and may be lost.\n",
    "\n",
    "## Therefore, it is important to close a file after it has been opened and used to free up system resources and ensure that any changes made to the file are saved. In Python, you can use the close() function to close a file. For example:"
   ]
  },
  {
   "cell_type": "code",
   "execution_count": 2,
   "id": "74371610-5742-44dd-a2ea-10470ad56d49",
   "metadata": {},
   "outputs": [],
   "source": [
    "file = open(\"example.txt\", \"r\")\n",
    "# do some operations on the file\n",
    "file.close()\n"
   ]
  },
  {
   "cell_type": "markdown",
   "id": "03f52cbc-1636-4a44-aa26-ef2f781e28b9",
   "metadata": {},
   "source": [
    "# Q3. Write a python program to create a text file. Write ‘I want to become a Data Scientist’ in that file. Then close the file. Open this file and read the content of the file."
   ]
  },
  {
   "cell_type": "markdown",
   "id": "b70f12d5-b4eb-4b93-8a6f-a60cc3e69b14",
   "metadata": {},
   "source": [
    "# Ans :"
   ]
  },
  {
   "cell_type": "markdown",
   "id": "4a8bd6fd-0a24-4f6f-8966-6dff7dbe7452",
   "metadata": {},
   "source": [
    "## Here's a Python program that creates a text file, writes some text to it, closes the file, and then opens the file again to read its contents:"
   ]
  },
  {
   "cell_type": "code",
   "execution_count": 3,
   "id": "70730348-1aa0-4395-86cb-04675cbee299",
   "metadata": {},
   "outputs": [
    {
     "name": "stdout",
     "output_type": "stream",
     "text": [
      "I want to become a Data Scientist\n"
     ]
    }
   ],
   "source": [
    "# Create a file named \"data_scientist.txt\" in write mode\n",
    "file = open(\"data_scientist.txt\", \"w\")\n",
    "\n",
    "# Write \"I want to become a Data Scientist\" to the file\n",
    "file.write(\"I want to become a Data Scientist\")\n",
    "\n",
    "# Close the file\n",
    "file.close()\n",
    "\n",
    "# Open the file in read mode\n",
    "file = open(\"data_scientist.txt\", \"r\")\n",
    "\n",
    "# Read the contents of the file and print them to the console\n",
    "content = file.read()\n",
    "print(content)\n",
    "\n",
    "# Close the file\n",
    "file.close()\n"
   ]
  },
  {
   "cell_type": "markdown",
   "id": "5c1b3154-360d-4953-bb1e-95bc3170812e",
   "metadata": {},
   "source": [
    "In this program, we first create a file named \"data_scientist.txt\" in write mode using the open() function. We then write the text \"I want to become a Data Scientist\" to the file using the write() function, and close the file using the close() function.\n",
    "\n",
    "We then open the file again in read mode using the open() function, read the contents of the file using the read() function, and print them to the console using the print() function. Finally, we close the file again using the close() function. When we run this program, the output should be:"
   ]
  },
  {
   "cell_type": "markdown",
   "id": "a176fe70-52b9-42bd-8a33-43209ecdcb24",
   "metadata": {},
   "source": [
    "# Q4. Explain the following with python code: read(), readline() and readlines()."
   ]
  },
  {
   "cell_type": "markdown",
   "id": "c550f207-815e-40e7-95e3-1375e8fc0ade",
   "metadata": {},
   "source": [
    "# Ans :"
   ]
  },
  {
   "cell_type": "markdown",
   "id": "ae3f60dd-35c6-495a-9342-5299f56bbfde",
   "metadata": {},
   "source": [
    "## 1) read(): This method reads the entire content of a file and returns it as a string. If you pass an argument to this method, it will read that number of characters from the file."
   ]
  },
  {
   "cell_type": "code",
   "execution_count": 67,
   "id": "ff3ca10d-e453-4831-86b3-6d2cee334070",
   "metadata": {},
   "outputs": [],
   "source": [
    "# Creating a simple text file with three lines\n",
    "file = open(\"data_scientist.txt\", \"w\")\n",
    "file.write(\"This is Line 1\\nThis is Line 2\\nThis is Line 3\")\n",
    "# Close the file\n",
    "file.close()"
   ]
  },
  {
   "cell_type": "code",
   "execution_count": 64,
   "id": "a5b5b9dd-026d-4627-87f9-0fe64ea57179",
   "metadata": {},
   "outputs": [
    {
     "name": "stdout",
     "output_type": "stream",
     "text": [
      "Content:\n",
      "This is Line 1\n",
      "This is Line 2\n",
      "This is Line 3\n",
      "\n"
     ]
    }
   ],
   "source": [
    "# Using the read() method to read the entire file\n",
    "file = open(\"data_scientist.txt\", \"r\")\n",
    "content = file.read()\n",
    "print(f\"Content:\\n{content}\\n\")\n",
    "file.close()"
   ]
  },
  {
   "cell_type": "markdown",
   "id": "2a805879-49be-4bcd-a448-ae984f9cc0b2",
   "metadata": {},
   "source": [
    "## 2) readline(): This method reads a single line from the file and returns it as a string. If you call this method again, it will read the next line and so on until the end of the file."
   ]
  },
  {
   "cell_type": "code",
   "execution_count": 65,
   "id": "86ccd8c8-ca92-49df-89f8-77f390a7318e",
   "metadata": {},
   "outputs": [
    {
     "name": "stdout",
     "output_type": "stream",
     "text": [
      "This is Line 1\n",
      "\n",
      "This is Line 2\n",
      "\n"
     ]
    }
   ],
   "source": [
    "# Using the readline() method to read a single line at a time\n",
    "file = open(\"data_scientist.txt\", \"r\")\n",
    "line1 = file.readline()\n",
    "line2 = file.readline()\n",
    "print(line1)\n",
    "print(line2)\n",
    "file.close()"
   ]
  },
  {
   "cell_type": "markdown",
   "id": "1d9fc97e-09aa-4895-9b23-6491da3d7727",
   "metadata": {},
   "source": [
    "## 3) readlines(): This method reads all the lines from the file and returns them as a list of strings. Each string in the list represents a single line from the file."
   ]
  },
  {
   "cell_type": "code",
   "execution_count": 66,
   "id": "9f364a1a-f8d5-44db-83c3-cb0c4d441803",
   "metadata": {},
   "outputs": [
    {
     "name": "stdout",
     "output_type": "stream",
     "text": [
      "All lines:\n",
      "['This is Line 1\\n', 'This is Line 2\\n', 'This is Line 3']\n"
     ]
    }
   ],
   "source": [
    "# Using the readlines() method to read all lines at once\n",
    "file = open(\"data_scientist.txt\", \"r\")\n",
    "lines = file.readlines()\n",
    "print(f\"All lines:\\n{lines}\")"
   ]
  },
  {
   "cell_type": "markdown",
   "id": "5dbc75b3-d461-4bd6-b9fd-389407514efb",
   "metadata": {},
   "source": [
    "# Q5. Explain why 'with' statement is used with open(). What is the advantage of using 'with' statement and open() together?"
   ]
  },
  {
   "cell_type": "markdown",
   "id": "ead99c75-0cb8-4dcb-b79e-aff54b5afb68",
   "metadata": {},
   "source": [
    "# Ans :"
   ]
  },
  {
   "cell_type": "markdown",
   "id": "3c0c8da9-5fc4-4649-8a24-aabbc755175c",
   "metadata": {},
   "source": [
    "## In Python, the with statement is used with the open() function to open a file and automatically close it when the block of code inside the with statement is finished executing. The with statement ensures that the file is closed properly even if an exception is raised inside the block of code.\n",
    "## Here is an example of how to use the with statement with the open() function:"
   ]
  },
  {
   "cell_type": "code",
   "execution_count": 75,
   "id": "c291c55f-f0b0-42d4-82e0-3a1aa1f1b1d0",
   "metadata": {},
   "outputs": [
    {
     "name": "stdout",
     "output_type": "stream",
     "text": [
      "This is Line 1\n",
      "This is Line 2\n",
      "This is Line 3\n"
     ]
    }
   ],
   "source": [
    "with open(\"data_scientist.txt\", \"r\") as f:\n",
    "    contents = f.read()\n",
    "    print(contents)\n"
   ]
  },
  {
   "cell_type": "markdown",
   "id": "a48a02e5-b332-4cdb-aecf-2f04d3ef8280",
   "metadata": {},
   "source": [
    "## In this example, we're using the with statement to open the file \"example.txt\" for reading. We're also using the as keyword to give the file object a name (f) that we can use to refer to it inside the with block. Inside the block, we're reading the contents of the file using the read() method, and then printing the contents to the console. When the block is finished executing, the file is automatically closed, thanks to the with statement."
   ]
  },
  {
   "cell_type": "markdown",
   "id": "28b3b420-5211-4df9-bd30-61927216ea1b",
   "metadata": {},
   "source": [
    "## The advantage of using the with statement and open() together is that it makes it easy to work with files in a safe and efficient manner. When you use the with statement, you don't have to worry about closing the file manually, which can be error-prone and can lead to resource leaks if you forget to close the file. With the with statement, you can be sure that the file is closed as soon as you're done working with it."
   ]
  },
  {
   "cell_type": "markdown",
   "id": "b6209dec-8369-4a5b-ae8d-dd034885d825",
   "metadata": {},
   "source": [
    "# Q6. Explain the write() and writelines() functions. Give a suitable example."
   ]
  },
  {
   "cell_type": "markdown",
   "id": "49392ab9-4ce7-4ee5-81ad-f45db51bbd39",
   "metadata": {},
   "source": [
    "# Ans :"
   ]
  },
  {
   "cell_type": "markdown",
   "id": "5cebe03f-3095-4f36-842d-519d189f0251",
   "metadata": {},
   "source": [
    "## In Python, the write() and writelines() functions are used to write data to a file.\n",
    "\n",
    "## The write() function is used to write a single string to a file. It takes a string as its argument and writes it to the file. If the file does not exist, it will be created. If the file exists, the write() function will overwrite its contents."
   ]
  },
  {
   "cell_type": "code",
   "execution_count": 73,
   "id": "188826dd-cf03-4424-bf21-047f7fcc292d",
   "metadata": {},
   "outputs": [],
   "source": [
    "with open(\"example.txt\", \"w\") as f:\n",
    "    f.write(\"Hello, world!\")\n"
   ]
  },
  {
   "cell_type": "markdown",
   "id": "30c60ca6-945d-4bfc-808f-32b40216b0f5",
   "metadata": {},
   "source": [
    "## The writelines() function is used to write a list of strings to a file. It takes a list of strings as its argument and writes each string to the file as a separate line. If the file does not exist, it will be created. If the file exists, the writelines() function will overwrite its contents."
   ]
  },
  {
   "cell_type": "code",
   "execution_count": 76,
   "id": "aa724393-7fd8-4958-bfb7-749aec41adeb",
   "metadata": {},
   "outputs": [],
   "source": [
    "lines = [\"Line 1\", \"Line 2\", \"Line 3\"]\n",
    "with open(\"example.txt\", \"w\") as f:\n",
    "    f.writelines(lines)\n"
   ]
  },
  {
   "cell_type": "code",
   "execution_count": null,
   "id": "2ad87e6f-efc9-46c8-b029-0bf980df0502",
   "metadata": {},
   "outputs": [],
   "source": []
  }
 ],
 "metadata": {
  "kernelspec": {
   "display_name": "Python 3 (ipykernel)",
   "language": "python",
   "name": "python3"
  },
  "language_info": {
   "codemirror_mode": {
    "name": "ipython",
    "version": 3
   },
   "file_extension": ".py",
   "mimetype": "text/x-python",
   "name": "python",
   "nbconvert_exporter": "python",
   "pygments_lexer": "ipython3",
   "version": "3.10.8"
  }
 },
 "nbformat": 4,
 "nbformat_minor": 5
}
